{
  "nbformat": 4,
  "nbformat_minor": 0,
  "metadata": {
    "colab": {
      "provenance": [],
      "toc_visible": true,
      "authorship_tag": "ABX9TyPbWarg5E7zIEmMNLSvdDYT",
      "include_colab_link": true
    },
    "kernelspec": {
      "name": "python3",
      "display_name": "Python 3"
    },
    "language_info": {
      "name": "python"
    }
  },
  "cells": [
    {
      "cell_type": "markdown",
      "metadata": {
        "id": "view-in-github",
        "colab_type": "text"
      },
      "source": [
        "<a href=\"https://colab.research.google.com/github/MasudurRahman34/Numpy/blob/main/Numpy.ipynb\" target=\"_parent\"><img src=\"https://colab.research.google.com/assets/colab-badge.svg\" alt=\"Open In Colab\"/></a>"
      ]
    },
    {
      "cell_type": "code",
      "execution_count": 1,
      "metadata": {
        "colab": {
          "base_uri": "https://localhost:8080/",
          "height": 35
        },
        "id": "Do6D8iMyod_s",
        "outputId": "65ce8a2e-f9f7-49a2-c14f-15d234a0e4b6"
      },
      "outputs": [
        {
          "output_type": "execute_result",
          "data": {
            "text/plain": [
              "'1.26.4'"
            ],
            "application/vnd.google.colaboratory.intrinsic+json": {
              "type": "string"
            }
          },
          "metadata": {},
          "execution_count": 1
        }
      ],
      "source": [
        "#import numpy from libraries\n",
        "import numpy as np\n",
        "np.__version__"
      ]
    },
    {
      "cell_type": "code",
      "source": [
        "#creating array from numpy\n",
        "arr=np.array([1,2,3,4,5,6,7,8,9,10])\n",
        "print(arr)"
      ],
      "metadata": {
        "colab": {
          "base_uri": "https://localhost:8080/"
        },
        "id": "e4_VvM0qo6nK",
        "outputId": "96b9bf8c-19c6-49d8-e88b-a13c1047f934"
      },
      "execution_count": 2,
      "outputs": [
        {
          "output_type": "stream",
          "name": "stdout",
          "text": [
            "[ 1  2  3  4  5  6  7  8  9 10]\n"
          ]
        }
      ]
    },
    {
      "cell_type": "code",
      "source": [
        "#numpy array can be multidimetional\n",
        "#1d, 2d, 3d....nd array.\n",
        "type(arr)"
      ],
      "metadata": {
        "colab": {
          "base_uri": "https://localhost:8080/"
        },
        "id": "c3TTNB0-pAh7",
        "outputId": "47a2666f-ef89-487e-bf4f-73816042ec0a"
      },
      "execution_count": 3,
      "outputs": [
        {
          "output_type": "execute_result",
          "data": {
            "text/plain": [
              "numpy.ndarray"
            ]
          },
          "metadata": {},
          "execution_count": 3
        }
      ]
    },
    {
      "cell_type": "code",
      "source": [
        "def getInfoOfArrayObject(obj):\n",
        "  print(f'array elements= {(obj)}')\n",
        "  print(f'type of the object= {type(obj)}')\n",
        "\n",
        "  print(f'dimenttion of the object= {obj.ndim}')\n",
        "  print(f'shape of the object ={obj.shape}')\n",
        "  print(f'size of the array: ={obj.size}')\n",
        "  print(f'data type of the object ={obj.dtype}')\n"
      ],
      "metadata": {
        "id": "b2N90_9Ur0b6"
      },
      "execution_count": 4,
      "outputs": []
    },
    {
      "cell_type": "code",
      "source": [
        "getInfoOfArrayObject(arr)"
      ],
      "metadata": {
        "colab": {
          "base_uri": "https://localhost:8080/"
        },
        "id": "pz_jj-LGsCGy",
        "outputId": "7c56ac83-111a-45eb-ffa2-75ec06608b2b"
      },
      "execution_count": 5,
      "outputs": [
        {
          "output_type": "stream",
          "name": "stdout",
          "text": [
            "array elements= [ 1  2  3  4  5  6  7  8  9 10]\n",
            "type of the object= <class 'numpy.ndarray'>\n",
            "dimenttion of the object= 1\n",
            "shape of the object =(10,)\n",
            "size of the array: =10\n",
            "data type of the object =int64\n"
          ]
        }
      ]
    },
    {
      "cell_type": "markdown",
      "source": [
        "\n",
        "```\n",
        "shape\n",
        "1d object = row for example (4,)\n",
        "2d object = row,column for example(3,3)\n",
        "3d object = layer, (row, column) for example (2,(2,3))\n",
        "```"
      ],
      "metadata": {
        "id": "Y9UfFIvYw2ZQ"
      }
    },
    {
      "cell_type": "code",
      "source": [
        "#2d array\n",
        "arr2=np.array([[1,2,3],[4,5,6],[7,8,9]])\n",
        "getInfoOfArrayObject(arr2)\n"
      ],
      "metadata": {
        "colab": {
          "base_uri": "https://localhost:8080/"
        },
        "id": "-rDx9chmqZlK",
        "outputId": "a6452fd6-5d32-4850-e82f-7ae2b338fd82"
      },
      "execution_count": 6,
      "outputs": [
        {
          "output_type": "stream",
          "name": "stdout",
          "text": [
            "array elements= [[1 2 3]\n",
            " [4 5 6]\n",
            " [7 8 9]]\n",
            "type of the object= <class 'numpy.ndarray'>\n",
            "dimenttion of the object= 2\n",
            "shape of the object =(3, 3)\n",
            "size of the array: =9\n",
            "data type of the object =int64\n"
          ]
        }
      ]
    },
    {
      "cell_type": "code",
      "source": [
        "#3d array\n",
        "arr3 = np.array([[[1, 2, 3], [4, 5, 6]], [[1, 2, 3], [4, 5, 6]]])\n",
        "getInfoOfArrayObject(arr3)"
      ],
      "metadata": {
        "colab": {
          "base_uri": "https://localhost:8080/"
        },
        "id": "DdKgWhTys3y2",
        "outputId": "0afa9937-8249-471f-d2d9-9e71136d6c7c"
      },
      "execution_count": 7,
      "outputs": [
        {
          "output_type": "stream",
          "name": "stdout",
          "text": [
            "array elements= [[[1 2 3]\n",
            "  [4 5 6]]\n",
            "\n",
            " [[1 2 3]\n",
            "  [4 5 6]]]\n",
            "type of the object= <class 'numpy.ndarray'>\n",
            "dimenttion of the object= 3\n",
            "shape of the object =(2, 2, 3)\n",
            "size of the array: =12\n",
            "data type of the object =int64\n"
          ]
        }
      ]
    },
    {
      "cell_type": "code",
      "source": [
        "#array one\n",
        "arr4=np.ones((3,4), dtype=int)\n",
        "getInfoOfArrayObject(arr4)"
      ],
      "metadata": {
        "colab": {
          "base_uri": "https://localhost:8080/"
        },
        "id": "jHrg_mQzfLMx",
        "outputId": "1c3fcc80-9d11-4226-abba-eb1c908ba538"
      },
      "execution_count": 8,
      "outputs": [
        {
          "output_type": "stream",
          "name": "stdout",
          "text": [
            "array elements= [[1 1 1 1]\n",
            " [1 1 1 1]\n",
            " [1 1 1 1]]\n",
            "type of the object= <class 'numpy.ndarray'>\n",
            "dimenttion of the object= 2\n",
            "shape of the object =(3, 4)\n",
            "size of the array: =12\n",
            "data type of the object =int64\n"
          ]
        }
      ]
    },
    {
      "cell_type": "code",
      "source": [
        "#arrithmetic with array\n",
        "arrAdd=arr4+99\n",
        "getInfoOfArrayObject(arrAdd)"
      ],
      "metadata": {
        "colab": {
          "base_uri": "https://localhost:8080/"
        },
        "id": "kpV7rk-Ug2N4",
        "outputId": "45c7dbef-6478-4502-9496-f78c9632b97b"
      },
      "execution_count": 9,
      "outputs": [
        {
          "output_type": "stream",
          "name": "stdout",
          "text": [
            "array elements= [[100 100 100 100]\n",
            " [100 100 100 100]\n",
            " [100 100 100 100]]\n",
            "type of the object= <class 'numpy.ndarray'>\n",
            "dimenttion of the object= 2\n",
            "shape of the object =(3, 4)\n",
            "size of the array: =12\n",
            "data type of the object =int64\n"
          ]
        }
      ]
    },
    {
      "cell_type": "code",
      "source": [
        "#array arrange for sequencing\n",
        "arrSeq=np.arange(1,10, step=1)\n",
        "arraRevSeq=np.arange(10,0,-1)\n",
        "getInfoOfArrayObject(arrSeq)\n",
        "getInfoOfArrayObject(arraRevSeq)"
      ],
      "metadata": {
        "colab": {
          "base_uri": "https://localhost:8080/"
        },
        "id": "0SS0HprBmBK6",
        "outputId": "440560e5-6b08-4730-f8cc-2fb606e95540"
      },
      "execution_count": 10,
      "outputs": [
        {
          "output_type": "stream",
          "name": "stdout",
          "text": [
            "array elements= [1 2 3 4 5 6 7 8 9]\n",
            "type of the object= <class 'numpy.ndarray'>\n",
            "dimenttion of the object= 1\n",
            "shape of the object =(9,)\n",
            "size of the array: =9\n",
            "data type of the object =int64\n",
            "array elements= [10  9  8  7  6  5  4  3  2  1]\n",
            "type of the object= <class 'numpy.ndarray'>\n",
            "dimenttion of the object= 1\n",
            "shape of the object =(10,)\n",
            "size of the array: =10\n",
            "data type of the object =int64\n"
          ]
        }
      ]
    },
    {
      "cell_type": "code",
      "source": [
        "#array linspace for eqally spaced over the specified range, parameter num, endpoint dtype\n",
        "arrLinspace=np.linspace(0,1, num=5)\n",
        "getInfoOfArrayObject(arrLinspace)\n",
        "#endpoint false means it exclude last range here is 1\n",
        "arrLinspace=np.linspace(0,1, num=5, endpoint=False)\n",
        "getInfoOfArrayObject(arrLinspace)"
      ],
      "metadata": {
        "colab": {
          "base_uri": "https://localhost:8080/"
        },
        "id": "oGBVKAEqnAZ5",
        "outputId": "39ba26d2-6367-4dff-b098-506aa57a1c9c"
      },
      "execution_count": 11,
      "outputs": [
        {
          "output_type": "stream",
          "name": "stdout",
          "text": [
            "array elements= [0.   0.25 0.5  0.75 1.  ]\n",
            "type of the object= <class 'numpy.ndarray'>\n",
            "dimenttion of the object= 1\n",
            "shape of the object =(5,)\n",
            "size of the array: =5\n",
            "data type of the object =float64\n",
            "array elements= [0.  0.2 0.4 0.6 0.8]\n",
            "type of the object= <class 'numpy.ndarray'>\n",
            "dimenttion of the object= 1\n",
            "shape of the object =(5,)\n",
            "size of the array: =5\n",
            "data type of the object =float64\n"
          ]
        }
      ]
    },
    {
      "cell_type": "markdown",
      "source": [
        "\n",
        "\n",
        "```\n",
        "DIFFERENCE\n",
        "Feature\tnp.arange\tnp.linspace\n",
        "Spacing\tDefined by step\tDetermined to fit num elements\n",
        "Endpoint\tExcluded (stop)\tIncluded by default (endpoint=True)\n",
        "Usage\tWhen you know the step size\tWhen you know the number of elements\n",
        "```\n",
        "\n"
      ],
      "metadata": {
        "id": "4jUiXL8loTCw"
      }
    },
    {
      "cell_type": "code",
      "source": [
        "#reshape can convert the array with n dimentional\n",
        "arr8=np.arange(1,13).reshape(3,-1)\n",
        "getInfoOfArrayObject(arr8)"
      ],
      "metadata": {
        "colab": {
          "base_uri": "https://localhost:8080/"
        },
        "id": "3mFLgPjX-Xlg",
        "outputId": "f20c5aba-8c34-49cc-993b-915477ff1451"
      },
      "execution_count": 12,
      "outputs": [
        {
          "output_type": "stream",
          "name": "stdout",
          "text": [
            "array elements= [[ 1  2  3  4]\n",
            " [ 5  6  7  8]\n",
            " [ 9 10 11 12]]\n",
            "type of the object= <class 'numpy.ndarray'>\n",
            "dimenttion of the object= 2\n",
            "shape of the object =(3, 4)\n",
            "size of the array: =12\n",
            "data type of the object =int64\n"
          ]
        }
      ]
    },
    {
      "cell_type": "code",
      "source": [
        "#flatten array can convert any dimention into 1 dimention\n",
        "arr9=arr8.flatten()\n",
        "getInfoOfArrayObject(arr9)"
      ],
      "metadata": {
        "colab": {
          "base_uri": "https://localhost:8080/"
        },
        "id": "Tdio0P8gCTMT",
        "outputId": "9d84f262-6adc-4427-8b4b-71dabd6e60c0"
      },
      "execution_count": 13,
      "outputs": [
        {
          "output_type": "stream",
          "name": "stdout",
          "text": [
            "array elements= [ 1  2  3  4  5  6  7  8  9 10 11 12]\n",
            "type of the object= <class 'numpy.ndarray'>\n",
            "dimenttion of the object= 1\n",
            "shape of the object =(12,)\n",
            "size of the array: =12\n",
            "data type of the object =int64\n"
          ]
        }
      ]
    },
    {
      "cell_type": "code",
      "source": [
        "arr10=np.arange(1,51).reshape(10,5)\n",
        "getInfoOfArrayObject(arr10)"
      ],
      "metadata": {
        "colab": {
          "base_uri": "https://localhost:8080/"
        },
        "id": "o3PSpDD7D6GD",
        "outputId": "1436fbf8-386c-4cf7-9e00-6990c3004b1b"
      },
      "execution_count": 14,
      "outputs": [
        {
          "output_type": "stream",
          "name": "stdout",
          "text": [
            "array elements= [[ 1  2  3  4  5]\n",
            " [ 6  7  8  9 10]\n",
            " [11 12 13 14 15]\n",
            " [16 17 18 19 20]\n",
            " [21 22 23 24 25]\n",
            " [26 27 28 29 30]\n",
            " [31 32 33 34 35]\n",
            " [36 37 38 39 40]\n",
            " [41 42 43 44 45]\n",
            " [46 47 48 49 50]]\n",
            "type of the object= <class 'numpy.ndarray'>\n",
            "dimenttion of the object= 2\n",
            "shape of the object =(10, 5)\n",
            "size of the array: =50\n",
            "data type of the object =int64\n"
          ]
        }
      ]
    },
    {
      "cell_type": "code",
      "source": [
        "arr11=np.linspace(1,50,50, dtype=int).reshape(10,5)\n",
        "getInfoOfArrayObject(arr11)"
      ],
      "metadata": {
        "colab": {
          "base_uri": "https://localhost:8080/"
        },
        "id": "xaVp-cs8ERGu",
        "outputId": "79c2fa2f-7fd2-4e7a-c947-1b56d79da4e3"
      },
      "execution_count": 15,
      "outputs": [
        {
          "output_type": "stream",
          "name": "stdout",
          "text": [
            "array elements= [[ 1  2  3  4  5]\n",
            " [ 6  7  8  9 10]\n",
            " [11 12 13 14 15]\n",
            " [16 17 18 19 20]\n",
            " [21 22 23 24 25]\n",
            " [26 27 28 29 30]\n",
            " [31 32 33 34 35]\n",
            " [36 37 38 39 40]\n",
            " [41 42 43 44 45]\n",
            " [46 47 48 49 50]]\n",
            "type of the object= <class 'numpy.ndarray'>\n",
            "dimenttion of the object= 2\n",
            "shape of the object =(10, 5)\n",
            "size of the array: =50\n",
            "data type of the object =int64\n"
          ]
        }
      ]
    },
    {
      "cell_type": "code",
      "source": [
        "identity_matrix=np.eye(3, dtype=int)\n",
        "getInfoOfArrayObject(identity_matrix)"
      ],
      "metadata": {
        "colab": {
          "base_uri": "https://localhost:8080/"
        },
        "id": "jhjriZiUGLVU",
        "outputId": "e3bf07b5-6b59-4663-eb7b-13059e93e888"
      },
      "execution_count": 16,
      "outputs": [
        {
          "output_type": "stream",
          "name": "stdout",
          "text": [
            "array elements= [[1 0 0]\n",
            " [0 1 0]\n",
            " [0 0 1]]\n",
            "type of the object= <class 'numpy.ndarray'>\n",
            "dimenttion of the object= 2\n",
            "shape of the object =(3, 3)\n",
            "size of the array: =9\n",
            "data type of the object =int64\n"
          ]
        }
      ]
    },
    {
      "cell_type": "markdown",
      "source": [
        "\n",
        "\n",
        "```\n",
        "mathemetic operation and universal function /scaler addition\n",
        "```\n",
        "\n"
      ],
      "metadata": {
        "id": "yY3notk8U9bW"
      }
    },
    {
      "cell_type": "code",
      "source": [
        "arr12=np.arange(10)\n",
        "arr13=np.arange(1,11)\n",
        "\n",
        "print(arr12)\n",
        "print(arr13)\n",
        "print(arr12+arr13)\n",
        "print(arr12-arr13)\n",
        "print(arr12*arr13)\n",
        "print(arr12/arr13)\n",
        "print(arr12%arr13)"
      ],
      "metadata": {
        "colab": {
          "base_uri": "https://localhost:8080/"
        },
        "id": "4gKzIGUjVUfO",
        "outputId": "03bed172-c695-42a7-c4ef-9b8ff99e3695"
      },
      "execution_count": 17,
      "outputs": [
        {
          "output_type": "stream",
          "name": "stdout",
          "text": [
            "[0 1 2 3 4 5 6 7 8 9]\n",
            "[ 1  2  3  4  5  6  7  8  9 10]\n",
            "[ 1  3  5  7  9 11 13 15 17 19]\n",
            "[-1 -1 -1 -1 -1 -1 -1 -1 -1 -1]\n",
            "[ 0  2  6 12 20 30 42 56 72 90]\n",
            "[0.         0.5        0.66666667 0.75       0.8        0.83333333\n",
            " 0.85714286 0.875      0.88888889 0.9       ]\n",
            "[0 1 2 3 4 5 6 7 8 9]\n"
          ]
        }
      ]
    },
    {
      "cell_type": "markdown",
      "source": [
        "\n",
        "\n",
        "```\n",
        "matrix and vector\n",
        "```\n",
        "\n"
      ],
      "metadata": {
        "id": "RS6iJzj3WH44"
      }
    },
    {
      "cell_type": "code",
      "source": [
        "arryMatrix1=np.array([[1,2,3],[4,5,6],[7,8,9]])\n",
        "arryMatrix2=np.array([[9,8,7],[6,5,4],[3,2,1]])\n",
        "print(arryMatrix1)\n",
        "print(arryMatrix2)\n",
        "print(arryMatrix1+arryMatrix2)\n",
        "print(arryMatrix1*arryMatrix2)\n",
        "print(arryMatrix1/arryMatrix2)\n",
        "print(arryMatrix1-arryMatrix2)"
      ],
      "metadata": {
        "colab": {
          "base_uri": "https://localhost:8080/"
        },
        "id": "SNs52oUSWNS_",
        "outputId": "e2bcacb4-758c-4a9b-f8f1-fbc483a74f69"
      },
      "execution_count": 21,
      "outputs": [
        {
          "output_type": "stream",
          "name": "stdout",
          "text": [
            "[[1 2 3]\n",
            " [4 5 6]\n",
            " [7 8 9]]\n",
            "[[9 8 7]\n",
            " [6 5 4]\n",
            " [3 2 1]]\n",
            "[[10 10 10]\n",
            " [10 10 10]\n",
            " [10 10 10]]\n",
            "[[ 9 16 21]\n",
            " [24 25 24]\n",
            " [21 16  9]]\n",
            "[[0.11111111 0.25       0.42857143]\n",
            " [0.66666667 1.         1.5       ]\n",
            " [2.33333333 4.         9.        ]]\n",
            "[[-8 -6 -4]\n",
            " [-2  0  2]\n",
            " [ 4  6  8]]\n"
          ]
        }
      ]
    },
    {
      "cell_type": "markdown",
      "source": [
        "\n",
        "\n",
        "```\n",
        "linear equation\n",
        "```\n",
        "\n"
      ],
      "metadata": {
        "id": "8SBikdQEXCEv"
      }
    },
    {
      "cell_type": "code",
      "source": [
        "a=np.array([[1,2],[3,4]])\n",
        "b=np.array([8,18])\n",
        "x=np.linalg.solve(a,b)\n",
        "print(x)\n"
      ],
      "metadata": {
        "colab": {
          "base_uri": "https://localhost:8080/"
        },
        "id": "NI9NY-iyXFB5",
        "outputId": "bf3f91e8-836c-4327-9bf4-3c4a0d4c06d8"
      },
      "execution_count": 22,
      "outputs": [
        {
          "output_type": "stream",
          "name": "stdout",
          "text": [
            "[2. 3.]\n"
          ]
        }
      ]
    },
    {
      "cell_type": "markdown",
      "source": [
        "\n",
        "\n",
        "```\n",
        "eigenvalues, eigen vecture\n",
        "```\n",
        "\n"
      ],
      "metadata": {
        "id": "_JOzPl1RYAxa"
      }
    },
    {
      "cell_type": "code",
      "source": [
        "eigenvalues, eigenvector=np.linalg.eig(a)\n",
        "print(eigenvalues)\n",
        "print(eigenvector)"
      ],
      "metadata": {
        "colab": {
          "base_uri": "https://localhost:8080/"
        },
        "id": "KHMngWOxYI62",
        "outputId": "a75a5cd0-8d5e-484b-ce37-34faa5325f57"
      },
      "execution_count": 24,
      "outputs": [
        {
          "output_type": "stream",
          "name": "stdout",
          "text": [
            "[-0.37228132  5.37228132]\n",
            "[[-0.82456484 -0.41597356]\n",
            " [ 0.56576746 -0.90937671]]\n"
          ]
        }
      ]
    },
    {
      "cell_type": "markdown",
      "source": [
        "\n",
        "\n",
        "```\n",
        "working with random data\n",
        "```\n",
        "\n"
      ],
      "metadata": {
        "id": "_iGWP_XNZMIs"
      }
    },
    {
      "cell_type": "code",
      "source": [
        "random1=np.random.seed(100)\n",
        "print(np.random.rand())"
      ],
      "metadata": {
        "colab": {
          "base_uri": "https://localhost:8080/"
        },
        "id": "6S5iFi3FZPLL",
        "outputId": "0d980240-d3f9-4816-9c57-12b0ef2fc937"
      },
      "execution_count": 50,
      "outputs": [
        {
          "output_type": "stream",
          "name": "stdout",
          "text": [
            "0.5434049417909654\n"
          ]
        }
      ]
    },
    {
      "cell_type": "code",
      "source": [
        "arrayRandom=np.array([1,2,3,4,5])\n",
        "shuffleData=np.random.permutation(arrayRandom)\n",
        "print(shuffleData)\n",
        "randomValue=np.random.choice(arrayRandom)\n",
        "print(randomValue)\n"
      ],
      "metadata": {
        "colab": {
          "base_uri": "https://localhost:8080/"
        },
        "id": "K9Tnmu_sadbf",
        "outputId": "829de2b5-f1ee-43de-9c63-93b869faf99a"
      },
      "execution_count": 64,
      "outputs": [
        {
          "output_type": "stream",
          "name": "stdout",
          "text": [
            "[4 2 1 3 5]\n",
            "4\n"
          ]
        }
      ]
    },
    {
      "cell_type": "markdown",
      "source": [
        "\n",
        "\n",
        "```\n",
        "normal probability distribution\n",
        "```\n",
        "\n"
      ],
      "metadata": {
        "id": "ZLuwqpl6dGk7"
      }
    },
    {
      "cell_type": "code",
      "source": [
        "import matplotlib.pyplot as plt\n",
        "seed=10\n",
        "rng=np.random.default_rng(seed)\n",
        "print(rng.random(size=10))\n",
        "mean=0\n",
        "std_dev=1\n",
        "num_samples=1000\n",
        "normal_distribution=rng.normal(loc=mean, scale=std_dev, size=num_samples)\n",
        "#ploting the histograg\n",
        "plt.hist(normal_distribution, bins=10, edgecolor='black')\n",
        "plt.xlabel('Value')\n",
        "plt.ylabel('Frequency')\n",
        "plt.title('Normal Distribution')\n",
        "plt.show()\n",
        "\n"
      ],
      "metadata": {
        "colab": {
          "base_uri": "https://localhost:8080/",
          "height": 507
        },
        "id": "PhWqefoPdL2h",
        "outputId": "4deebe72-5347-4932-bac1-81f4c717f6d2"
      },
      "execution_count": 68,
      "outputs": [
        {
          "output_type": "stream",
          "name": "stdout",
          "text": [
            "[0.95600171 0.20768181 0.82844489 0.14928212 0.51280462 0.1359196\n",
            " 0.68903648 0.84174772 0.425509   0.956926  ]\n"
          ]
        },
        {
          "output_type": "display_data",
          "data": {
            "text/plain": [
              "<Figure size 640x480 with 1 Axes>"
            ],
            "image/png": "[encoded data removed]"
          },
          "metadata": {}
        }
      ]
    },
    {
      "cell_type": "markdown",
      "source": [
        "\n",
        "\n",
        "```\n",
        "# gamma distribution\n",
        "```\n",
        "\n"
      ],
      "metadata": {
        "id": "0VoD1wv9e8on"
      }
    },
    {
      "cell_type": "code",
      "source": [
        "shape=2\n",
        "scale=1\n",
        "num_samples=1000\n",
        "gamma_distribution=rng.gamma(shape=shape, scale=scale, size=num_samples)\n",
        "plt.hist(gamma_distribution, bins=10, edgecolor='black')\n",
        "plt.xlabel('Value')\n",
        "plt.ylabel('Frequency')\n",
        "plt.title('Gamma Distribution')\n",
        "plt.show()"
      ],
      "metadata": {
        "colab": {
          "base_uri": "https://localhost:8080/",
          "height": 472
        },
        "id": "ENuGVeOyfArR",
        "outputId": "3c0aefeb-052e-4cac-e3b6-69bb72e40d76"
      },
      "execution_count": 69,
      "outputs": [
        {
          "output_type": "display_data",
          "data": {
            "text/plain": [
              "<Figure size 640x480 with 1 Axes>"
            ],
            "image/png": "[encoded data removed]"
          },
          "metadata": {}
        }
      ]
    }
  ]
}